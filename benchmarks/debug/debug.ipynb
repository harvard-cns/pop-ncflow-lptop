{
 "cells": [
  {
   "cell_type": "code",
   "execution_count": null,
   "metadata": {},
   "outputs": [],
   "source": [
    "import sys\n",
    "\n",
    "sys.path.append(\"..\")\n",
    "sys.path.append(\"../..\")\n",
    "\n",
    "from benchmark_helpers import NCFLOW_HYPERPARAMS\n",
    "from lib.algorithms.abstract_formulation import OBJ_STRS\n",
    "from lib.algorithms import NcfEpi, Objective, PathFormulation\n",
    "from lib.problem import Problem\n",
    "from lib.graph_utils import check_feasibility"
   ]
  },
  {
   "cell_type": "code",
   "execution_count": null,
   "metadata": {},
   "outputs": [],
   "source": [
    "problem = Problem.from_file('../../topologies/topology-zoo/Kdl.graphml',\n",
    "     '../../traffic-matrices/poisson-high-inter/Kdl.graphml_poisson_1857279712_64.0_10000.0_0.9_3.3e-06_traffic-matrix.pkl')"
   ]
  },
  {
   "cell_type": "code",
   "execution_count": null,
   "metadata": {},
   "outputs": [],
   "source": [
    "paths_dict = PathFormulation.read_paths_from_disk_or_compute(problem,\n",
    "                                                             num_paths=4,\n",
    "                                                             edge_disjoint=True,\n",
    "                                                             dist_metric='inv-cap')"
   ]
  },
  {
   "cell_type": "code",
   "execution_count": null,
   "metadata": {},
   "outputs": [],
   "source": [
    "l = []\n",
    "for (_, (s_k, t_k, d_k)) in problem.commodity_list:\n",
    "    s_k_t_k_paths = paths_dict[(s_k, t_k)]\n",
    "    num_hops_per_path = [len(p) for p in s_k_t_k_paths]\n",
    "    s_k_t_k_num_paths = len(num_hops_per_path)\n",
    "    s_k_t_k_shortest_path, s_k_t_k_longest_path = min(num_hops_per_path), max(num_hops_per_path)\n",
    "    l.append((s_k, t_k, d_k, s_k_t_k_shortest_path, s_k_t_k_longest_path))    "
   ]
  },
  {
   "cell_type": "code",
   "execution_count": null,
   "metadata": {},
   "outputs": [],
   "source": [
    "sorted_l = sorted(l, key=lambda x: x[2], reverse=True)"
   ]
  },
  {
   "cell_type": "code",
   "execution_count": null,
   "metadata": {},
   "outputs": [],
   "source": [
    "sorted_l[50000:50010]"
   ]
  },
  {
   "cell_type": "code",
   "execution_count": null,
   "metadata": {},
   "outputs": [],
   "source": []
  }
 ],
 "metadata": {
  "interpreter": {
   "hash": "aa509d1bd70256533b369bf7ac312b63d0306e3bc61c409ebad00e6ad0854480"
  },
  "kernelspec": {
   "display_name": "Python 3",
   "language": "python",
   "name": "python3"
  },
  "language_info": {
   "codemirror_mode": {
    "name": "ipython",
    "version": 3
   },
   "file_extension": ".py",
   "mimetype": "text/x-python",
   "name": "python",
   "nbconvert_exporter": "python",
   "pygments_lexer": "ipython3",
   "version": "3.8.8"
  }
 },
 "nbformat": 4,
 "nbformat_minor": 2
}
