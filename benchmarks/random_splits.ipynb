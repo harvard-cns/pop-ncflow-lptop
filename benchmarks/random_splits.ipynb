{
 "cells": [
  {
   "cell_type": "code",
   "execution_count": 1,
   "metadata": {},
   "outputs": [],
   "source": [
    "import numpy as np\n",
    "import random\n",
    "import copy\n",
    "import matplotlib.pyplot as plt\n",
    "%matplotlib inline"
   ]
  },
  {
   "cell_type": "markdown",
   "metadata": {},
   "source": [
    "Setting:\n",
    "\n",
    "cluster with 2 machine types, A and B\n",
    "Split them equally across subproblems.\n",
    "\n",
    "Consider optimal solution where jobs are assigned to machine A (type A jobs) or machine B (type B jobs)\n",
    "A random partitioning of jobs across sub-problems will, in expectation, match the proportion of type A and type B jobs in each subproblem.\n",
    "However, there are deviations with random partitioning, and this script quantifies those."
   ]
  },
  {
   "cell_type": "code",
   "execution_count": 38,
   "metadata": {
    "scrolled": false
   },
   "outputs": [
    {
     "data": {
      "image/png": "[encoded data removed]",
      "text/plain": [
       "<Figure size 432x288 with 1 Axes>"
      ]
     },
     "metadata": {
      "needs_background": "light"
     },
     "output_type": "display_data"
    },
    {
     "data": {
      "image/png": "[encoded data removed]",
      "text/plain": [
       "<Figure size 432x288 with 1 Axes>"
      ]
     },
     "metadata": {
      "needs_background": "light"
     },
     "output_type": "display_data"
    }
   ],
   "source": [
    "\n",
    "def rand_bin_array(N, num1):\n",
    "    arr = np.zeros(N)\n",
    "    arr[:int(num1)] = 1\n",
    "    np.random.shuffle(arr)\n",
    "    return arr\n",
    "\n",
    "def two_choice(jobs, K):\n",
    "    \n",
    "    num_jobs = len(jobs)\n",
    "    \n",
    "    subproblem_assignments = [[] for _ in range(K)]\n",
    "    num_in_subproblem = [0]*K\n",
    "    num_1s_in_subproblem = [0]*K\n",
    "    num_assigned = 0\n",
    "\n",
    "    # keep track of which subproblems have not been filled up yet\n",
    "    sp_indices = list(range(K))\n",
    "    num_sp_in_play = K\n",
    "    \n",
    "    for job in jobs:\n",
    "        \n",
    "        # if only one job is left to fill up, give it the job\n",
    "        if num_sp_in_play == 1:\n",
    "            subproblem_assignments[sp_indices[0]].append(job)\n",
    "            continue\n",
    "        \n",
    "        # choose 2 random subproblems\n",
    "        sp1 = sp_indices[random.randint(0,num_sp_in_play-1)]\n",
    "        sp2 = sp_indices[random.randint(0,num_sp_in_play-1)]\n",
    "        while sp2 == sp1:\n",
    "            sp2 = sp_indices[random.randint(0,num_sp_in_play-1)]\n",
    "        \n",
    "        # check which sp has more 1's\n",
    "        if num_1s_in_subproblem[sp1] > num_1s_in_subproblem[sp2]:\n",
    "            more_1s_sp = sp1\n",
    "            less_1s_sp = sp2\n",
    "        else:\n",
    "            more_1s_sp = sp2\n",
    "            less_1s_sp = sp1\n",
    "        \n",
    "        # assign job\n",
    "        if job == 1:\n",
    "            assigned_sp = less_1s_sp\n",
    "            num_1s_in_subproblem[less_1s_sp] += 1\n",
    "        else:\n",
    "            assigned_sp = more_1s_sp\n",
    "        \n",
    "        subproblem_assignments[assigned_sp].append(job)\n",
    "        num_in_subproblem[assigned_sp] += 1\n",
    "        num_assigned += 1\n",
    "        #print(subproblem_assignments)\n",
    "        \n",
    "        # check if subproblem has been given its share of jobs;\n",
    "        # if so, remove it from consideration\n",
    "        if num_in_subproblem[assigned_sp] >= num_jobs/K and num_sp_in_play > 1:\n",
    "            sp_indices.remove(assigned_sp)\n",
    "            num_sp_in_play -= 1\n",
    "        \n",
    "    return subproblem_assignments\n",
    "\n",
    "def run_trials(N, num_trials, max_K_exp, twochoice=False):\n",
    "    means = [0]*(max_K_exp-1)\n",
    "    stds = [0]*(max_K_exp-1)\n",
    "    for i, exp in enumerate(range(1,max_K_exp)):\n",
    "        K = 2**exp\n",
    "        jobs = rand_bin_array(N, N/2)\n",
    "        jobs_per_subproblem = N/K\n",
    "        \n",
    "        deviations = [0]*num_trials\n",
    "        for trial in range(num_trials):\n",
    "            jobs_shuffled = copy.deepcopy(jobs)\n",
    "            np.random.shuffle(jobs_shuffled)\n",
    "            if twochoice:\n",
    "                subproblem_assignments = two_choice(jobs_shuffled, K)\n",
    "            else:\n",
    "                # randomly assign to K subproblems\n",
    "                subproblem_assignments = [[] for k in range(K)]\n",
    "\n",
    "                for k in range(K):\n",
    "                    start = int(k*jobs_per_subproblem)\n",
    "                    end = int(start + jobs_per_subproblem)\n",
    "                    subproblem_assignments[k] = jobs_shuffled[start:end]\n",
    "            print([len(sp) for sp in subproblem_assignments])\n",
    "            \n",
    "            # count number of 1's and 0's in each subproblem\n",
    "            num_1_per_subproblem = [sum(a) for a in subproblem_assignments]\n",
    "            num_0_per_subproblem = [jobs_per_subproblem - num_1 for num_1 in num_1_per_subproblem]\n",
    "\n",
    "            for k, num_1 in enumerate(num_1_per_subproblem):\n",
    "                deviations[trial] += abs((jobs_per_subproblem/2) - num_1)\n",
    "\n",
    "        means[i] = np.mean(deviations)\n",
    "        stds[i] = np.std(deviations)\n",
    "        #print(means)\n",
    "        #print(stds)\n",
    "    \n",
    "    means = np.asarray(means)\n",
    "    stds = np.asarray(stds)\n",
    "\n",
    "    fig = plt.figure()\n",
    "    ax = plt.axes()\n",
    "    plt.bar(list(range(1,max_K_exp)), means, yerr=stds)\n",
    "    plt.xlabel('num subproblem')\n",
    "    plt.ylabel('deviation from even split')\n",
    "    plt.xticks(range(1,max_K_exp), [str(2**exp) for exp in range(1,max_K_exp)])\n",
    "\n"
   ]
  },
  {
   "cell_type": "code",
   "execution_count": 40,
   "metadata": {},
   "outputs": [
    {
     "data": {
      "image/png": "[encoded data removed]",
      "text/plain": [
       "<Figure size 432x288 with 1 Axes>"
      ]
     },
     "metadata": {
      "needs_background": "light"
     },
     "output_type": "display_data"
    },
    {
     "data": {
      "image/png": "[encoded data removed]",
      "text/plain": [
       "<Figure size 432x288 with 1 Axes>"
      ]
     },
     "metadata": {
      "needs_background": "light"
     },
     "output_type": "display_data"
    }
   ],
   "source": [
    "N = 10000\n",
    "\n",
    "num_trials = 100\n",
    "max_K_exp = 6\n",
    "run_trials(N,num_trials, max_K_exp, twochoice=False)\n",
    "run_trials(N,num_trials, max_K_exp, twochoice=True)\n"
   ]
  },
  {
   "cell_type": "code",
   "execution_count": 34,
   "metadata": {},
   "outputs": [
    {
     "name": "stdout",
     "output_type": "stream",
     "text": [
      "[[], [0], []]\n",
      "[[], [0, 1], []]\n",
      "[[0], [0, 1], []]\n",
      "[[0, 1], [0, 1], []]\n",
      "[[0, 1], [0, 1, 0], []]\n",
      "[[0, 1], [0, 1, 0, 1], []]\n",
      "[[0, 1, 0], [0, 1, 0, 1], []]\n",
      "[[0, 1, 0], [0, 1, 0, 1], [1]]\n",
      "[[0, 1, 0], [0, 1, 0, 1], [1, 0]]\n",
      "[[0, 1, 0], [0, 1, 0, 1], [1, 0, 1]]\n",
      "[[0, 1, 0], [0, 1, 0, 1], [1, 0, 1, 0]]\n",
      "[[0, 1, 0, 1], [0, 1, 0, 1], [1, 0, 1, 0]]\n",
      "[[0, 1, 0, 1], [0, 1, 0, 1, 0], [1, 0, 1, 0]]\n",
      "[[0, 1, 0, 1], [0, 1, 0, 1, 0], [1, 0, 1, 0, 1]]\n",
      "[[0, 1, 0, 1], [0, 1, 0, 1, 0], [1, 0, 1, 0, 1, 0]]\n",
      "[[0, 1, 0, 1], [0, 1, 0, 1, 0, 1], [1, 0, 1, 0, 1, 0]]\n",
      "[[0, 1, 0, 1, 0, 1], [0, 1, 0, 1, 0, 1], [1, 0, 1, 0, 1, 0]]\n"
     ]
    }
   ],
   "source": [
    "print(two_choice([0,1,0,1,0,1,0,1,0,1,0,1,0,1,0,1,0,1], 3))"
   ]
  },
  {
   "cell_type": "code",
   "execution_count": null,
   "metadata": {},
   "outputs": [],
   "source": []
  }
 ],
 "metadata": {
  "kernelspec": {
   "display_name": "Python 3",
   "language": "python",
   "name": "python3"
  },
  "language_info": {
   "codemirror_mode": {
    "name": "ipython",
    "version": 3
   },
   "file_extension": ".py",
   "mimetype": "text/x-python",
   "name": "python",
   "nbconvert_exporter": "python",
   "pygments_lexer": "ipython3",
   "version": "3.6.8"
  }
 },
 "nbformat": 4,
 "nbformat_minor": 2
}
