{
 "cells": [
  {
   "cell_type": "code",
   "execution_count": null,
   "metadata": {},
   "outputs": [],
   "source": [
    "%reload_ext autoreload\n",
    "%load_ext blackcellmagic\n",
    "%autoreload 2\n",
    "\n",
    "import os\n",
    "\n",
    "from lib.plot_utils import *\n",
    "from lib.cdf_utils import *\n",
    "from lib.scatter_utils import *"
   ]
  },
  {
   "cell_type": "code",
   "execution_count": null,
   "metadata": {},
   "outputs": [],
   "source": [
    "csv_dir = os.path.join(CSV_ROOT_DIR, \"total-flow\")\n",
    "query_str = 'problem != \"one-wan-bidir.json\" and problem != \"msft-8075.json\"'"
   ]
  },
  {
   "cell_type": "code",
   "execution_count": null,
   "metadata": {},
   "outputs": [],
   "source": [
    "path_df = (\n",
    "    pd.read_csv(os.path.join(csv_dir, \"path-form-total_flow-slice_0_1_2_3_4.csv\"))\n",
    "    .drop(columns=[\"num_nodes\", \"num_edges\", \"num_commodities\"])\n",
    "    .query(PF_PARAMS)\n",
    ")\n",
    "path_df = sort_and_set_index(path_df)\n",
    "if query_str is not None:\n",
    "    path_df = path_df.query(query_str)\n",
    "\n",
    "# POP DF\n",
    "pop_df = pd.read_csv(os.path.join(csv_dir, \"pop-total_flow-slice_0_1_2_3_4-k_16.csv\"))\n",
    "pop_df = sort_and_set_index(pop_df, drop=True)\n",
    "if query_str is not None:\n",
    "    pop_df = pop_df.query(query_str)\n",
    "pop_df = pop_df.query(\n",
    "    '(split_fraction == 0.0 and tm_model != \"poisson-high-intra\") or (split_fraction == 0.75 and tm_model == \"poisson-high-intra\")'\n",
    ")\n",
    "\n",
    "# NC Iterative DF\n",
    "ncflow_df = per_iter_to_nc_df(\n",
    "    os.path.join(csv_dir, \"ncflow-total_flow-slices_0_1_2_3_4.csv\")\n",
    ")\n",
    "if query_str is not None:\n",
    "    ncflow_df = ncflow_df.query(query_str)\n"
   ]
  },
  {
   "cell_type": "code",
   "execution_count": null,
   "metadata": {},
   "outputs": [],
   "source": [
    "ncflow_vs_pop_df = get_ratio_df(ncflow_df, pop_df, \"obj_val\", \"_nc\")"
   ]
  },
  {
   "cell_type": "code",
   "execution_count": null,
   "metadata": {},
   "outputs": [],
   "source": [
    "ncflow_vs_pop_df.query('obj_val_ratio < 1.0 & speedup_ratio < 1.0')"
   ]
  },
  {
   "cell_type": "code",
   "execution_count": null,
   "metadata": {},
   "outputs": [],
   "source": [
    "ncflow_vs_pop_df.query('obj_val_ratio > 1.0 & speedup_ratio > 1.0').sort_values('speedup_ratio')"
   ]
  },
  {
   "cell_type": "code",
   "execution_count": null,
   "metadata": {},
   "outputs": [],
   "source": [
    "ncflow_vs_pop_df.query('obj_val_ratio > 1.0').sort_values('obj_val_ratio', ascending=False).head(20)"
   ]
  },
  {
   "cell_type": "code",
   "execution_count": null,
   "metadata": {},
   "outputs": [],
   "source": [
    "ncflow_vs_pop_df.query('problem == \"Kdl.graphml\"').sort_values('speedup_ratio')"
   ]
  },
  {
   "cell_type": "code",
   "execution_count": null,
   "metadata": {},
   "outputs": [],
   "source": [
    "ncflow_df.query('traffic_seed == 1857279712')[['obj_val', 'runtime']]"
   ]
  },
  {
   "cell_type": "code",
   "execution_count": null,
   "metadata": {},
   "outputs": [],
   "source": [
    "pop_df.query('traffic_seed == 1857279712')[['obj_val', 'runtime']]"
   ]
  },
  {
   "cell_type": "code",
   "execution_count": null,
   "metadata": {},
   "outputs": [],
   "source": [
    "ncflow_vs_pop_df.sort_values('obj_val_ratio')"
   ]
  },
  {
   "cell_type": "code",
   "execution_count": null,
   "metadata": {},
   "outputs": [],
   "source": [
    "ncflow_vs_pop_df.sort_values('speedup_ratio')"
   ]
  },
  {
   "cell_type": "markdown",
   "metadata": {},
   "source": [
    "## Scatter Plot of Total Flow"
   ]
  },
  {
   "cell_type": "code",
   "execution_count": null,
   "metadata": {},
   "outputs": [],
   "source": [
    "def pop_random_scatter(path_form_csv, pop_csv, query_str):\n",
    "    with_kdl = \"problem == 'Kdl.graphml'\"\n",
    "    no_kdl = \"problem != 'Kdl.graphml'\"\n",
    "    ratio_dfs = get_ratio_dataframes(\n",
    "        path_form_csv,\n",
    "        pop_csv,\n",
    "        pop_parent_query_str=query_str,\n",
    "        pop_query_strs=[with_kdl, no_kdl],\n",
    "    )\n",
    "    plot_dfs = [ratio_dfs[\"POP\"][with_kdl], ratio_dfs[\"POP\"][no_kdl]]\n",
    "    scatter_plot(\n",
    "        plot_dfs,\n",
    "        [\"KDL\", \"Non-KDL\"],\n",
    "        [\"nc\", \"smore\"],\n",
    "        \"speedup_ratio\",\n",
    "        \"obj_val_ratio\",\n",
    "        xlim=None,\n",
    "        ylim=[0.0, 1.1],\n",
    "        figsize=(7.5, 4),\n",
    "        xlabel=\"Speedup rel. to original problem\",\n",
    "        ylabel=\"Total flow rel. to\\n original problem\",\n",
    "        bbta=(0, 0, 1, 2.35),\n",
    "        ncol=2,\n",
    "        xlog=True,\n",
    "        save=True,\n",
    "    )"
   ]
  },
  {
   "cell_type": "code",
   "execution_count": null,
   "metadata": {},
   "outputs": [],
   "source": [
    "path_form_csv = 'max_total_flow_csvs/path-form-total-flow-slices_0_1_2_3_4.csv'\n",
    "pop_csv = 'max_total_flow_csvs/pop-total_flow-slice_0-k_16.csv'"
   ]
  },
  {
   "cell_type": "code",
   "execution_count": null,
   "metadata": {
    "scrolled": false
   },
   "outputs": [],
   "source": [
    "pop_random_scatter(\n",
    "    path_form_csv,\n",
    "    pop_csv,\n",
    "    \"split_method == 'random' and num_subproblems == 16 and (tm_model == 'poisson-high-intra' and split_fraction == 0.75) or (tm_model != 'poisson-high-intra' and split_fraction == 0.0)\",\n",
    ")"
   ]
  },
  {
   "cell_type": "code",
   "execution_count": null,
   "metadata": {
    "scrolled": false
   },
   "outputs": [],
   "source": [
    "pop_random_scatter(path_form_csv, pop_csv,\n",
    "                   \"tm_model == 'poisson-high-inter'\", \"Poisson, High Inter\")"
   ]
  },
  {
   "cell_type": "code",
   "execution_count": null,
   "metadata": {
    "scrolled": false
   },
   "outputs": [],
   "source": [
    "pop_random_scatter(path_form_csv, pop_csv,\n",
    "                   \"tm_model == 'uniform'\", \"Uniform\")"
   ]
  },
  {
   "cell_type": "code",
   "execution_count": null,
   "metadata": {
    "scrolled": false
   },
   "outputs": [],
   "source": [
    "pop_random_scatter(path_form_csv, pop_csv,\n",
    "                   \"tm_model == 'gravity'\", \"Gravity\")"
   ]
  },
  {
   "cell_type": "code",
   "execution_count": null,
   "metadata": {
    "scrolled": false
   },
   "outputs": [],
   "source": [
    "pop_random_scatter(path_form_csv, pop_csv,\n",
    "                   \"tm_model == 'bimodal'\", \"Bimodal\")"
   ]
  },
  {
   "cell_type": "code",
   "execution_count": null,
   "metadata": {
    "scrolled": false
   },
   "outputs": [],
   "source": [
    "pop_random_scatter(path_form_csv, pop_csv,\n",
    "                   None, \"all\")"
   ]
  }
 ],
 "metadata": {
  "interpreter": {
   "hash": "8084d8ef14082c5908e3189999da088a17081a0740c2c6b004ccabca56276078"
  },
  "kernelspec": {
   "display_name": "Python 3",
   "language": "python",
   "name": "python3"
  },
  "language_info": {
   "codemirror_mode": {
    "name": "ipython",
    "version": 3
   },
   "file_extension": ".py",
   "mimetype": "text/x-python",
   "name": "python",
   "nbconvert_exporter": "python",
   "pygments_lexer": "ipython3",
   "version": "3.8.8"
  }
 },
 "nbformat": 4,
 "nbformat_minor": 2
}
