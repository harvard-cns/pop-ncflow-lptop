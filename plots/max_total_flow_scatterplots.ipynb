{
 "cells": [
  {
   "cell_type": "code",
   "execution_count": null,
   "source": [
    "import networkx as nx\n",
    "import numpy as np\n",
    "import matplotlib.pyplot as plt\n",
    "import seaborn as sns\n",
    "import pandas as pd\n",
    "\n",
    "from glob import iglob\n",
    "from math import log, floor\n",
    "import os\n",
    "import re\n",
    "import pickle\n",
    "\n",
    "%reload_ext autoreload\n",
    "%load_ext blackcellmagic\n",
    "%autoreload 2\n",
    "\n",
    "from lib.plot_utils import *\n",
    "from lib.cdf_utils import *\n",
    "from lib.scatter_utils import *"
   ],
   "outputs": [],
   "metadata": {}
  },
  {
   "cell_type": "markdown",
   "source": [
    "## Scatter Plot of Total Flow"
   ],
   "metadata": {}
  },
  {
   "cell_type": "code",
   "execution_count": null,
   "source": [
    "def pop_random_scatter(path_form_csv, pop_csv, query_str):\n",
    "    with_kdl = \"problem == 'Kdl.graphml'\"\n",
    "    no_kdl = \"problem != 'Kdl.graphml'\"\n",
    "    ratio_dfs = get_ratio_dataframes(\n",
    "        path_form_csv,\n",
    "        pop_csv,\n",
    "        pop_parent_query_str=query_str,\n",
    "        pop_query_strs=[with_kdl, no_kdl],\n",
    "    )\n",
    "    plot_dfs = [ratio_dfs[\"POP\"][with_kdl], ratio_dfs[\"POP\"][no_kdl]]\n",
    "    scatter_plot(\n",
    "        plot_dfs,\n",
    "        [\"KDL\", \"Non-KDL\"],\n",
    "        [\"nc\", \"smore\"],\n",
    "        \"speedup_ratio\",\n",
    "        \"obj_val_ratio\",\n",
    "        xlim=None,\n",
    "        ylim=[0.0, 1.1],\n",
    "        figsize=(7.5, 4),\n",
    "        xlabel=\"Speedup rel. to original problem\",\n",
    "        ylabel=\"Total flow rel. to\\n original problem\",\n",
    "        bbta=(0, 0, 1, 2.35),\n",
    "        ncol=2,\n",
    "        xlog=True,\n",
    "        save=True,\n",
    "    )"
   ],
   "outputs": [],
   "metadata": {}
  },
  {
   "cell_type": "code",
   "execution_count": null,
   "source": [
    "path_form_csv = 'max_total_flow_csvs/path-form-total-flow-slices_0_1_2_3_4.csv'\n",
    "pop_csv = 'max_total_flow_csvs/pop-total_flow-slice_0-k_16.csv'"
   ],
   "outputs": [],
   "metadata": {}
  },
  {
   "cell_type": "code",
   "execution_count": null,
   "source": [
    "pop_random_scatter(\n",
    "    path_form_csv,\n",
    "    pop_csv,\n",
    "    \"split_method == 'random' and num_subproblems == 16 and (tm_model == 'poisson-high-intra' and split_fraction == 0.75) or (tm_model != 'poisson-high-intra' and split_fraction == 0.0)\",\n",
    ")"
   ],
   "outputs": [],
   "metadata": {
    "scrolled": false
   }
  },
  {
   "cell_type": "code",
   "execution_count": null,
   "source": [
    "pop_random_scatter(path_form_csv, pop_csv,\n",
    "                   \"tm_model == 'poisson-high-inter'\", \"Poisson, High Inter\")"
   ],
   "outputs": [],
   "metadata": {
    "scrolled": false
   }
  },
  {
   "cell_type": "code",
   "execution_count": null,
   "source": [
    "pop_random_scatter(path_form_csv, pop_csv,\n",
    "                   \"tm_model == 'uniform'\", \"Uniform\")"
   ],
   "outputs": [],
   "metadata": {
    "scrolled": false
   }
  },
  {
   "cell_type": "code",
   "execution_count": null,
   "source": [
    "pop_random_scatter(path_form_csv, pop_csv,\n",
    "                   \"tm_model == 'gravity'\", \"Gravity\")"
   ],
   "outputs": [],
   "metadata": {
    "scrolled": false
   }
  },
  {
   "cell_type": "code",
   "execution_count": null,
   "source": [
    "pop_random_scatter(path_form_csv, pop_csv,\n",
    "                   \"tm_model == 'bimodal'\", \"Bimodal\")"
   ],
   "outputs": [],
   "metadata": {
    "scrolled": false
   }
  },
  {
   "cell_type": "code",
   "execution_count": null,
   "source": [
    "pop_random_scatter(path_form_csv, pop_csv,\n",
    "                   None, \"all\")"
   ],
   "outputs": [],
   "metadata": {
    "scrolled": false
   }
  }
 ],
 "metadata": {
  "kernelspec": {
   "name": "python3",
   "display_name": "Python 3.8.8 64-bit ('pop': conda)"
  },
  "language_info": {
   "codemirror_mode": {
    "name": "ipython",
    "version": 3
   },
   "file_extension": ".py",
   "mimetype": "text/x-python",
   "name": "python",
   "nbconvert_exporter": "python",
   "pygments_lexer": "ipython3",
   "version": "3.8.8"
  },
  "interpreter": {
   "hash": "8084d8ef14082c5908e3189999da088a17081a0740c2c6b004ccabca56276078"
  }
 },
 "nbformat": 4,
 "nbformat_minor": 2
}