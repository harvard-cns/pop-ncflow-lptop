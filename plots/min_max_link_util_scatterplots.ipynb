{
 "cells": [
  {
   "cell_type": "code",
   "execution_count": null,
   "metadata": {},
   "outputs": [],
   "source": [
    "import matplotlib.pyplot as plt\n",
    "import pandas as pd\n",
    "from mpl_toolkits.axes_grid.inset_locator import (InsetPosition, mark_inset)\n",
    "import os\n",
    "\n",
    "%reload_ext autoreload\n",
    "%autoreload 2\n",
    "\n",
    "from lib.plot_utils import *\n",
    "from lib.cdf_utils import *\n",
    "from lib.scatter_utils import *"
   ]
  },
  {
   "cell_type": "markdown",
   "metadata": {},
   "source": [
    "## Scatter Plot of Min-Max Link Utilization"
   ]
  },
  {
   "cell_type": "code",
   "execution_count": null,
   "metadata": {},
   "outputs": [],
   "source": [
    "csv_path = os.path.join(CSV_ROOT_DIR,'min-max-link-util/pop-min_max_link_util-slice_0.csv')\n",
    "query_str = \"split_method == 'random'and (tm_model == 'poisson-high-intra' and split_fraction == 0.25) or (tm_model != 'poisson-high-intra' and split_fraction == 0.0)\"\n",
    "pop_df = change_poisson_in_df(pd.read_csv(csv_path)).query(query_str)"
   ]
  },
  {
   "cell_type": "code",
   "execution_count": null,
   "metadata": {},
   "outputs": [],
   "source": [
    "def scatter_plot(problem, tm_model, scale_factor, inset_position):\n",
    "\tpop_query_df = pop_df.query(\"problem == '{}' and tm_model == '{}' and scale_factor == {}\".format(problem, tm_model, scale_factor))\n",
    "\t_, ax1 = plt.subplots()\n",
    "\tax1.scatter(pop_query_df[\"obj_val\"], pop_query_df[\"runtime\"])\n",
    "\tax1.set_xlabel(\"Max link utilization\")\n",
    "\tax1.set_ylabel(\"Runtime (s)\")\n",
    "\tax1.set_xlim(0, 1)\n",
    "\tax1.set_ylim(0)\n",
    "\tax1.set_title(\"{} {} {}\".format(problem, tm_model, scale_factor))\n",
    "\n",
    "\t# Create a set of inset Axes: these should fill the bounding box allocated to\n",
    "\t# them.\n",
    "\t# lbwh\n",
    "\tax2 = plt.axes([0,0,1,1])\n",
    "\t# Manually set the position and relative size of the inset axes within ax1\n",
    "\tip = InsetPosition(ax1, inset_position)\n",
    "\tax2.set_axes_locator(ip)\n",
    "\t# Mark the region corresponding to the inset axes on ax1 and draw lines\n",
    "\t# in grey linking the two axes.\n",
    "\tmark_inset(ax1, ax2, loc1=2, loc2=4, fc=\"none\", ec='0.5')\n",
    "\tax2.scatter(pop_query_df[\"obj_val\"], pop_query_df[\"runtime\"])\n",
    "\tfor i, row in pop_query_df.iterrows():\n",
    "\t\tax2.annotate(text=\"K-{}\".format(row[\"num_subproblems\"]), xy=(row['obj_val'], row['runtime']))"
   ]
  },
  {
   "cell_type": "code",
   "execution_count": null,
   "metadata": {},
   "outputs": [],
   "source": [
    "problem, tm_model, scale_factor, inset_position = \"UsCarrier.graphml\", \"poisson-high-inter\", 8.0, [0.05, 0.2, 0.6, 0.6]\n",
    "scatter_plot(problem, tm_model, scale_factor, inset_position)"
   ]
  },
  {
   "cell_type": "code",
   "execution_count": null,
   "metadata": {},
   "outputs": [],
   "source": []
  }
 ],
 "metadata": {
  "interpreter": {
   "hash": "aa509d1bd70256533b369bf7ac312b63d0306e3bc61c409ebad00e6ad0854480"
  },
  "kernelspec": {
   "display_name": "Python 3.8.8 64-bit ('pop': conda)",
   "language": "python",
   "name": "python3"
  },
  "language_info": {
   "codemirror_mode": {
    "name": "ipython",
    "version": 3
   },
   "file_extension": ".py",
   "mimetype": "text/x-python",
   "name": "python",
   "nbconvert_exporter": "python",
   "pygments_lexer": "ipython3",
   "version": "3.8.8"
  }
 },
 "nbformat": 4,
 "nbformat_minor": 2
}
