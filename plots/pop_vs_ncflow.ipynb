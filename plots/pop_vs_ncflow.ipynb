{
 "cells": [
  {
   "cell_type": "code",
   "execution_count": null,
   "metadata": {},
   "outputs": [],
   "source": [
    "import pandas as pd\n",
    "import os\n",
    "\n",
    "%reload_ext autoreload\n",
    "%autoreload 2\n",
    "\n",
    "from lib.plot_utils import *\n",
    "from lib.cdf_utils import *\n",
    "from lib.scatter_utils import *"
   ]
  },
  {
   "cell_type": "markdown",
   "metadata": {},
   "source": [
    "## CDF of POP vs NCFlow"
   ]
  },
  {
   "cell_type": "code",
   "execution_count": null,
   "metadata": {},
   "outputs": [],
   "source": [
    "def cdf(obj, scale_factor, tm_model, topo, slice, num_subproblems, split_method, split_fraction):\n",
    "    csv_dir_path = os.path.join(CSVS_PATH,'pop-vs-ncflow')\n",
    "    csv_path = os.path.join(csv_dir_path,\n",
    "        'pop-vs-ncflow-{}-slice_{}_problem_{}-tm_model_{}-scale_factor_{}-num_subproblems_{}-split_method_{}-split_fraction_{}.csv'.format(\n",
    "         obj, slice, topo, tm_model, scale_factor, num_subproblems, split_method, split_fraction))\n",
    "    df = pd.read_csv(csv_path).set_index(\"k\")\n",
    "\n",
    "    print(df[[\"pop_out_flow\", \"ncflow_out_flow\"]].sum())\n",
    "    pop_minus_ncflow = df[\"pop_minus_ncflow\"]\n",
    "    print(\"< 0: {}, == 0: {}, > 0: {}\".format(np.mean(pop_minus_ncflow < 0), np.mean(pop_minus_ncflow == 0), np.mean(pop_minus_ncflow > 0)))\n",
    "\n",
    "    plot_cdfs([pop_minus_ncflow], [\"POP - NCFlow\"], \"problem_{}\", figsize=(8, 5), title=r\"{}, {}, {}, $\\alpha={}$\".format(obj, topo, tm_model, scale_factor))"
   ]
  },
  {
   "cell_type": "code",
   "execution_count": null,
   "metadata": {},
   "outputs": [],
   "source": [
    "args = {\n",
    "    \"obj\": \"total_flow\",\n",
    "    \"scale_factor\":  16.0,\n",
    "    \"tm_model\":  \"uniform\",\n",
    "    \"topo\":  \"GtsCe.graphml\",\n",
    "    \"slice\":  0,\n",
    "    \"num_subproblems\":  32,\n",
    "    \"split_method\":  \"random\",\n",
    "    \"split_fraction\": 0.0 \n",
    "}\n",
    "cdf(**args)\n"
   ]
  },
  {
   "cell_type": "code",
   "execution_count": null,
   "metadata": {},
   "outputs": [],
   "source": [
    "\n",
    "args = {\n",
    "    \"obj\": \"total_flow\",\n",
    "    \"scale_factor\":  32.0,\n",
    "    \"tm_model\":  \"bimodal\",\n",
    "    \"topo\":  \"Cogentco.graphml\",\n",
    "    \"slice\":  0,\n",
    "    \"num_subproblems\":  32,\n",
    "    \"split_method\":  \"random\",\n",
    "    \"split_fraction\": 0.0 \n",
    "}\n",
    "cdf(**args)\n"
   ]
  },
  {
   "cell_type": "code",
   "execution_count": null,
   "metadata": {},
   "outputs": [],
   "source": [
    "\n",
    "args = {\n",
    "    \"obj\": \"total_flow\",\n",
    "    \"scale_factor\":  2.0,\n",
    "    \"tm_model\":  \"uniform\",\n",
    "    \"topo\":  \"Colt.graphml\",\n",
    "    \"slice\":  0,\n",
    "    \"num_subproblems\":  32,\n",
    "    \"split_method\":  \"random\",\n",
    "    \"split_fraction\": 0.0 \n",
    "}\n",
    "cdf(**args)\n"
   ]
  },
  {
   "cell_type": "code",
   "execution_count": null,
   "metadata": {},
   "outputs": [],
   "source": [
    "\n",
    "args = {\n",
    "    \"obj\": \"total_flow\",\n",
    "    \"scale_factor\":  1.0,\n",
    "    \"tm_model\":  \"poisson-high-inter\",\n",
    "    \"topo\":  \"Deltacom.graphml\",\n",
    "    \"slice\":  0,\n",
    "    \"num_subproblems\":  32,\n",
    "    \"split_method\":  \"random\",\n",
    "    \"split_fraction\": 0.0 \n",
    "}\n",
    "cdf(**args)\n"
   ]
  },
  {
   "cell_type": "code",
   "execution_count": null,
   "metadata": {},
   "outputs": [],
   "source": [
    "\n",
    "args = {\n",
    "    \"obj\": \"total_flow\",\n",
    "    \"scale_factor\":  128.0,\n",
    "    \"tm_model\":  \"gravity\",\n",
    "    \"topo\":  \"GtsCe.graphml\",\n",
    "    \"slice\":  0,\n",
    "    \"num_subproblems\":  32,\n",
    "    \"split_method\":  \"random\",\n",
    "    \"split_fraction\": 0.0 \n",
    "}\n",
    "cdf(**args)\n"
   ]
  },
  {
   "cell_type": "code",
   "execution_count": null,
   "metadata": {},
   "outputs": [],
   "source": [
    "\n",
    "args = {\n",
    "    \"obj\": \"total_flow\",\n",
    "    \"scale_factor\":  64.0,\n",
    "    \"tm_model\":  \"gravity\",\n",
    "    \"topo\":  \"TataNld.graphml\",\n",
    "    \"slice\":  0,\n",
    "    \"num_subproblems\":  32,\n",
    "    \"split_method\":  \"random\",\n",
    "    \"split_fraction\": 0.0 \n",
    "}\n",
    "cdf(**args)\n"
   ]
  },
  {
   "cell_type": "code",
   "execution_count": null,
   "metadata": {},
   "outputs": [],
   "source": [
    "\n",
    "args = {\n",
    "    \"obj\": \"total_flow\",\n",
    "    \"scale_factor\":  4.0,\n",
    "    \"tm_model\":  \"poisson-high-inter\",\n",
    "    \"topo\":  \"UsCarrier.graphml\",\n",
    "    \"slice\":  0,\n",
    "    \"num_subproblems\":  32,\n",
    "    \"split_method\":  \"random\",\n",
    "    \"split_fraction\": 0.0 \n",
    "}\n",
    "cdf(**args)\n"
   ]
  },
  {
   "cell_type": "code",
   "execution_count": null,
   "metadata": {},
   "outputs": [],
   "source": []
  }
 ],
 "metadata": {
  "interpreter": {
   "hash": "aa509d1bd70256533b369bf7ac312b63d0306e3bc61c409ebad00e6ad0854480"
  },
  "kernelspec": {
   "display_name": "Python 3.8.8 64-bit ('pop': conda)",
   "language": "python",
   "name": "python3"
  },
  "language_info": {
   "codemirror_mode": {
    "name": "ipython",
    "version": 3
   },
   "file_extension": ".py",
   "mimetype": "text/x-python",
   "name": "python",
   "nbconvert_exporter": "python",
   "pygments_lexer": "ipython3",
   "version": "3.8.8"
  }
 },
 "nbformat": 4,
 "nbformat_minor": 2
}
