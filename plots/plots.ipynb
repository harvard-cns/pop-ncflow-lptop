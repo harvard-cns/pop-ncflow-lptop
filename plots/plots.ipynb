{
 "cells": [
  {
   "cell_type": "code",
   "execution_count": null,
   "source": [
    "import networkx as nx\n",
    "import numpy as np\n",
    "import matplotlib.pyplot as plt\n",
    "import seaborn as sns\n",
    "import pandas as pd\n",
    "\n",
    "from glob import iglob\n",
    "from math import log, floor\n",
    "import os\n",
    "import re\n",
    "import pickle\n",
    "\n",
    "%reload_ext autoreload\n",
    "%load_ext blackcellmagic\n",
    "%autoreload 2\n",
    "\n",
    "from lib.plot_utils import *\n",
    "from lib.cdf_utils import *"
   ],
   "outputs": [],
   "metadata": {}
  },
  {
   "cell_type": "markdown",
   "source": [
    "# POP"
   ],
   "metadata": {}
  },
  {
   "cell_type": "markdown",
   "source": [
    "## Private WAN"
   ],
   "metadata": {}
  },
  {
   "cell_type": "code",
   "execution_count": null,
   "source": [
    "TIME_WINDOW = 5\n",
    "fnames = list(iglob(\"private_wan_csvs/*.csv\"))\n",
    "time_cols = [\"tm_date\", \"tm_time\"]\n",
    "data_cols = [\"nc_time\", \"pop_time\", \"nc_flow\", \"pop_flow\"]\n",
    "cols = time_cols + data_cols\n",
    "\n",
    "def add_timestamp_col(df):\n",
    "    df[\"timestamp\"] = pd.to_datetime(\n",
    "        df[\"tm_date\"] + \" \" + df[\"tm_time\"].map(lambda x: x[:-4]),\n",
    "        format=\"%Y%m%d %H%M%S\",\n",
    "    )\n",
    "    df[\"timedelta\"] = np.arange(0, len(df) * TIME_WINDOW, TIME_WINDOW) / (24 * 60)\n",
    "    return df.drop(columns=time_cols)\n",
    "\n",
    "\n",
    "def add_split_threshold_suffix(df, split_threshold):\n",
    "    return df.rename(\n",
    "        {col: \"{}_{}\".format(col, split_threshold) for col in data_cols},\n",
    "        axis=1,\n",
    "    )\n",
    "\n",
    "\n",
    "dfs = [\n",
    "    add_split_threshold_suffix(df, split_threshold)\n",
    "    for split_threshold, df in [\n",
    "        [\n",
    "            float(re.search(\"split_threshold=(.*)-sanitized\", fname).group(1)),\n",
    "            pd.read_csv(fname, dtype={\"tm_date\": str, \"tm_time\": str}, usecols=cols),\n",
    "        ]\n",
    "        for fname in fnames\n",
    "    ]\n",
    "]\n",
    "\n",
    "join_df = dfs[0]\n",
    "index_cols = ['tm_date', 'tm_time']\n",
    "for other_df in dfs[1:]:\n",
    "    join_df = join_df.set_index(index_cols).join(other_df.set_index(index_cols)).reset_index()\n",
    "\n",
    "ready_to_plot_df = add_timestamp_col(join_df)"
   ],
   "outputs": [],
   "metadata": {}
  },
  {
   "cell_type": "code",
   "execution_count": null,
   "source": [
    "print(ready_to_plot_df['pop_flow_0.0'].median())\n",
    "print(ready_to_plot_df['pop_flow_0.25'].median())\n",
    "print(1/ ready_to_plot_df['pop_time_0.0'].median())\n",
    "print(1/ ready_to_plot_df['pop_time_0.25'].median())"
   ],
   "outputs": [],
   "metadata": {}
  },
  {
   "cell_type": "code",
   "execution_count": null,
   "source": [
    "MA_WINDOW = 5\n",
    "MARK_EVERY = 150\n",
    "MARKER_SIZE = 10\n",
    "LINE_WIDTH = 2.0\n",
    "\n",
    "def moving_average(a, n=MA_WINDOW):\n",
    "    a = np.array(a)\n",
    "    ret = np.cumsum(a)\n",
    "    ret[n:] = ret[n:] - ret[:-n]\n",
    "    return ret[n - 1 :] / n\n",
    "\n",
    "\n",
    "fig, [ax0, ax1] = plt.subplots(nrows=2, ncols=1, figsize=(8.38, 6.5), sharex=True)\n",
    "ax0.plot(\n",
    "    ready_to_plot_df[\"timedelta\"][MA_WINDOW - 1 :],\n",
    "    moving_average(ready_to_plot_df[\"nc_flow_0.0\"]),\n",
    "    # marker = 's',\n",
    "    # markersize = MARKER_SIZE,\n",
    "    # markevery = MARK_EVERY,\n",
    "    linestyle= '--',\n",
    "    linewidth = LINE_WIDTH,\n",
    "    label=\"NCFlow\",\n",
    ")\n",
    "ax0.plot(\n",
    "    ready_to_plot_df[\"timedelta\"][MA_WINDOW - 1 :],\n",
    "    moving_average(ready_to_plot_df[\"pop_flow_0.0\"]),\n",
    "    # marker = 'o',\n",
    "    # markersize = MARKER_SIZE,\n",
    "    # markevery = MARK_EVERY,\n",
    "    linestyle= ':',\n",
    "    linewidth = LINE_WIDTH,\n",
    "    label=\"POP, +0x\",\n",
    ")\n",
    "ax0.plot(\n",
    "    ready_to_plot_df[\"timedelta\"][MA_WINDOW - 1 :],\n",
    "    moving_average(ready_to_plot_df[\"pop_flow_0.25\"]),\n",
    "    # marker = '^',\n",
    "    # markersize = MARKER_SIZE,\n",
    "    # markevery = MARK_EVERY,\n",
    "    linestyle= '-',\n",
    "    linewidth = LINE_WIDTH,\n",
    "    label=\"POP, +0.25x\",\n",
    ")\n",
    "ax0.set_ylabel(\"Total flow rel. to\\n original problem\")\n",
    "ax0.grid(True)\n",
    "\n",
    "ax1.plot(\n",
    "    ready_to_plot_df[\"timedelta\"][MA_WINDOW - 1 :],\n",
    "    moving_average(1 / ready_to_plot_df[\"nc_time_0.0\"]),\n",
    "    # marker = 's',\n",
    "    # markersize = MARKER_SIZE,\n",
    "    # markevery = MARK_EVERY,\n",
    "    linestyle= '--',\n",
    "    linewidth = LINE_WIDTH,\n",
    "    label=\"NCFlow\",\n",
    ")\n",
    "ax1.plot(\n",
    "    ready_to_plot_df[\"timedelta\"][MA_WINDOW - 1 :],\n",
    "    moving_average(1 / ready_to_plot_df[\"pop_time_0.0\"]),\n",
    "    # marker = 'o',\n",
    "    # markersize = MARKER_SIZE,\n",
    "    # markevery = MARK_EVERY,\n",
    "    linestyle= ':',\n",
    "    linewidth = LINE_WIDTH,\n",
    "    label=\"POP, +0x\",\n",
    ")\n",
    "ax1.plot(\n",
    "    ready_to_plot_df[\"timedelta\"][MA_WINDOW - 1 :],\n",
    "    moving_average(1 / ready_to_plot_df[\"pop_time_0.25\"]),\n",
    "    # marker = '^',\n",
    "    # markersize = MARKER_SIZE,\n",
    "    # markevery = MARK_EVERY,\n",
    "    linestyle= '-',\n",
    "    linewidth = LINE_WIDTH,\n",
    "    label=\"POP, +0.25x\",\n",
    ")\n",
    "ax1.set_xlabel(\"Time (days)\")\n",
    "ax1.set_ylabel(\"Speedup rel. to\\n original problem\")\n",
    "ax1.grid(True)\n",
    "\n",
    "legend = ax0.legend(\n",
    "    frameon=False, ncol=3, loc=\"center\", bbox_to_anchor=(0, 0, 1.0, 2.3)\n",
    ")\n",
    "save_figure(\"private-wan\", extra_artists=(legend,))"
   ],
   "outputs": [],
   "metadata": {}
  },
  {
   "cell_type": "markdown",
   "source": [
    "## Maximum Concurrent Flow"
   ],
   "metadata": {}
  },
  {
   "cell_type": "code",
   "execution_count": null,
   "source": [
    "# Path Formulation DF\n",
    "path_form_df = (\n",
    "    pd.read_csv(\"scripts/mcf_cdfs/path-form.csv\")\n",
    "    .drop(columns=[\"num_nodes\", \"num_edges\", \"num_commodities\"])\n",
    "    .query(PF_PARAMS)\n",
    ")\n",
    "path_form_df = sort_and_set_index(path_form_df, drop=True)"
   ],
   "outputs": [],
   "metadata": {}
  },
  {
   "cell_type": "code",
   "execution_count": null,
   "source": [
    "# POP DF\n",
    "pop_df = pd.read_csv(\"scripts/mcf_cdfs/pop.csv\")\n",
    "pop_df = sort_and_set_index(pop_df, drop=True)"
   ],
   "outputs": [],
   "metadata": {}
  },
  {
   "cell_type": "code",
   "execution_count": null,
   "source": [
    "pop_mcf_ratio_df = get_ratio_df(pop_df, path_form_df, \"obj_val\", \"_pop\")"
   ],
   "outputs": [],
   "metadata": {}
  },
  {
   "cell_type": "code",
   "execution_count": null,
   "source": [
    "pop_mcf_ratio_df.query(\"problem == 'Kdl.graphml'\").sort_values(\"obj_val_ratio\").head(20)"
   ],
   "outputs": [],
   "metadata": {}
  },
  {
   "cell_type": "markdown",
   "source": [
    "### CDFs"
   ],
   "metadata": {}
  },
  {
   "cell_type": "code",
   "execution_count": null,
   "source": [
    "from mcf_cdfs.plot_mcf_cdfs import plot_mcf_cdfs\n",
    "plot_mcf_cdfs('mcf_cdfs/', title='Poisson High Intra', query_str='problem not in [\"Uninett2010.graphml\", \"Ion.graphml\", \"Interoute.graphml\"] and tm_model == \"poisson-high-intra\"')"
   ],
   "outputs": [],
   "metadata": {}
  },
  {
   "cell_type": "code",
   "execution_count": null,
   "source": [
    "from mcf_cdfs.plot_mcf_cdfs import plot_mcf_cdfs\n",
    "plot_mcf_cdfs('mcf_cdfs/', title='Uniform', query_str='problem not in [\"Uninett2010.graphml\", \"Ion.graphml\", \"Interoute.graphml\"] and tm_model == \"uniform\"')"
   ],
   "outputs": [],
   "metadata": {}
  },
  {
   "cell_type": "markdown",
   "source": [
    "## Max Flow"
   ],
   "metadata": {}
  },
  {
   "cell_type": "markdown",
   "source": [
    "### CDFs"
   ],
   "metadata": {}
  },
  {
   "cell_type": "code",
   "execution_count": null,
   "source": [
    "from speedup_relative_flow_cdfs.plot_speedup_relative_flow_cdfs import plot_speedup_relative_flow_cdfs\n",
    "plot_speedup_relative_flow_cdfs('speedup_relative_flow_cdfs/', title='Uniform', query_str='problem not in [\"Uninett2010.graphml\", \"Ion.graphml\", \"Interoute.graphml\"] and tm_model == \"uniform\"')"
   ],
   "outputs": [],
   "metadata": {
    "tags": []
   }
  },
  {
   "cell_type": "code",
   "execution_count": null,
   "source": [
    "plot_speedup_relative_flow_cdfs('speedup_relative_flow_cdfs/', title='Gravity', query_str='problem not in [\"Uninett2010.graphml\", \"Ion.graphml\", \"Interoute.graphml\"] and tm_model == \"gravity\"')"
   ],
   "outputs": [],
   "metadata": {}
  },
  {
   "cell_type": "code",
   "execution_count": null,
   "source": [
    "plot_speedup_relative_flow_cdfs('speedup_relative_flow_cdfs/', title='Bimodal', query_str='problem not in [\"Uninett2010.graphml\", \"Ion.graphml\", \"Interoute.graphml\"] and tm_model == \"bimodal\"')"
   ],
   "outputs": [],
   "metadata": {}
  },
  {
   "cell_type": "code",
   "execution_count": null,
   "source": [
    "plot_speedup_relative_flow_cdfs('speedup_relative_flow_cdfs/', title='Poisson High Inter', query_str='problem not in [\"Uninett2010.graphml\", \"Ion.graphml\", \"Interoute.graphml\"] and tm_model == \"poisson-high-inter\"')"
   ],
   "outputs": [],
   "metadata": {}
  },
  {
   "cell_type": "code",
   "execution_count": null,
   "source": [
    "plot_speedup_relative_flow_cdfs('speedup_relative_flow_cdfs/', title='Poisson High Intra', query_str='problem not in [\"Uninett2010.graphml\", \"Ion.graphml\", \"Interoute.graphml\"] and tm_model == \"poisson-high-intra\"')"
   ],
   "outputs": [],
   "metadata": {}
  },
  {
   "cell_type": "code",
   "execution_count": null,
   "source": [
    "plot_speedup_relative_flow_cdfs('speedup_relative_flow_cdfs/', title='Kdl', query_str='problem not in [\"Uninett2010.graphml\", \"Ion.graphml\", \"Interoute.graphml\"] and problem == \"Kdl.graphml\"')"
   ],
   "outputs": [],
   "metadata": {}
  },
  {
   "cell_type": "code",
   "execution_count": null,
   "source": [
    "plot_speedup_relative_flow_cdfs('speedup_relative_flow_cdfs/', title='GtsCe', query_str='problem not in [\"Uninett2010.graphml\", \"Ion.graphml\", \"Interoute.graphml\"] and problem == \"GtsCe.graphml\"')"
   ],
   "outputs": [],
   "metadata": {}
  },
  {
   "cell_type": "code",
   "execution_count": null,
   "source": [
    "plot_speedup_relative_flow_cdfs('speedup_relative_flow_cdfs/', title=r'$\\alpha \\in \\{1, 2\\}$', query_str='problem not in [\"Uninett2010.graphml\", \"Ion.graphml\", \"Interoute.graphml\"] and scale_factor in [1.0, 2.0]')"
   ],
   "outputs": [],
   "metadata": {}
  },
  {
   "cell_type": "code",
   "execution_count": null,
   "source": [
    "plot_speedup_relative_flow_cdfs('speedup_relative_flow_cdfs/', title=r'$\\alpha$ = 16', query_str='problem not in [\"Uninett2010.graphml\", \"Ion.graphml\", \"Interoute.graphml\"] and scale_factor == 16.0')"
   ],
   "outputs": [],
   "metadata": {}
  },
  {
   "cell_type": "code",
   "execution_count": null,
   "source": [
    "plot_speedup_relative_flow_cdfs('speedup_relative_flow_cdfs/', title=r'$\\alpha$ = 128', query_str='problem not in [\"Uninett2010.graphml\", \"Ion.graphml\", \"Interoute.graphml\"] and scale_factor == 128.0')"
   ],
   "outputs": [],
   "metadata": {}
  },
  {
   "cell_type": "markdown",
   "source": [
    "## Scatter Plots"
   ],
   "metadata": {}
  },
  {
   "cell_type": "code",
   "execution_count": null,
   "source": [
    "from scatter_plot.plot_scatter_plot import scatter"
   ],
   "outputs": [],
   "metadata": {}
  },
  {
   "cell_type": "code",
   "execution_count": null,
   "source": [
    "def pop_random_scatter(query_str, title):\n",
    "    plot_dfs = [df.query(query_str) for df in ratio_dfs[0:3]]\n",
    "    scatter(plot_dfs,\n",
    "            [\"POP: Random, 64\", \"POP: Random, 16\", \"POP: Random, 4\"],\n",
    "            [\"nc\", \"smore\", \"pf\"],\n",
    "            \"flow_ratio\",\n",
    "            \"speedup_ratio\",\n",
    "            xlim=None,\n",
    "            ylim=None,\n",
    "            xlabel='flow ratio to PF4',\n",
    "            ylabel='speedup ratio to PF4',\n",
    "            bbta=(0, 0, 1, 2.35),\n",
    "            ncol=3,\n",
    "            title=title,\n",
    "            log=True) "
   ],
   "outputs": [],
   "metadata": {}
  },
  {
   "cell_type": "code",
   "execution_count": null,
   "source": [
    "pop_random_scatter(\"tm_model == 'poisson-high-intra'\", \"Poisson, High Intra\")\n"
   ],
   "outputs": [],
   "metadata": {}
  },
  {
   "cell_type": "code",
   "execution_count": null,
   "source": [
    "pop_random_scatter(\"tm_model == 'poisson-high-inter'\", \"Poisson, High Inter\")"
   ],
   "outputs": [],
   "metadata": {}
  },
  {
   "cell_type": "code",
   "execution_count": null,
   "source": [
    "pop_random_scatter(\"tm_model == 'uniform'\", \"Uniform\")"
   ],
   "outputs": [],
   "metadata": {}
  },
  {
   "cell_type": "code",
   "execution_count": null,
   "source": [
    "pop_random_scatter(\"tm_model == 'gravity'\", \"Gravity\")"
   ],
   "outputs": [],
   "metadata": {}
  },
  {
   "cell_type": "code",
   "execution_count": null,
   "source": [
    "pop_random_scatter(\"tm_model == 'bimodal'\", \"Bimodal\")"
   ],
   "outputs": [],
   "metadata": {}
  }
 ],
 "metadata": {
  "kernelspec": {
   "name": "python3",
   "display_name": "Python 3.8.8 64-bit ('pop': conda)"
  },
  "language_info": {
   "codemirror_mode": {
    "name": "ipython",
    "version": 3
   },
   "file_extension": ".py",
   "mimetype": "text/x-python",
   "name": "python",
   "nbconvert_exporter": "python",
   "pygments_lexer": "ipython3",
   "version": "3.8.8"
  },
  "interpreter": {
   "hash": "8084d8ef14082c5908e3189999da088a17081a0740c2c6b004ccabca56276078"
  }
 },
 "nbformat": 4,
 "nbformat_minor": 2
}